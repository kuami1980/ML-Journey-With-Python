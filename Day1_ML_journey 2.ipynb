{
  "nbformat": 4,
  "nbformat_minor": 0,
  "metadata": {
    "colab": {
      "provenance": []
    },
    "kernelspec": {
      "name": "python3",
      "display_name": "Python 3"
    },
    "language_info": {
      "name": "python"
    }
  },
  "cells": [
    {
      "cell_type": "code",
      "execution_count": null,
      "metadata": {
        "colab": {
          "base_uri": "https://localhost:8080/"
        },
        "id": "HpmbKqI7jltH",
        "outputId": "06a802ee-937e-4f4f-c24d-53ddf51c1e2a"
      },
      "outputs": [
        {
          "output_type": "stream",
          "name": "stdout",
          "text": [
            "enter a stringbus\n",
            "its not a palindrome\n"
          ]
        }
      ],
      "source": [
        "s1 = input(\"enter a string\")\n",
        "s2 = s1[::-1]\n",
        "\n",
        "if s1 == s2:\n",
        "   print (\"its a palindrome\")\n",
        "else:\n",
        "   print (\"its not a palindrome\")\n",
        "\n"
      ]
    },
    {
      "cell_type": "code",
      "source": [
        "str = 'I live in Bangalore city and Mumbai city'\n",
        "list1 = list(str.split(' '))\n",
        "\n",
        "dict1 = {}\n",
        "\n",
        "print(list1)\n",
        "\n",
        "for key in list1:\n",
        "  if key not in dict1:\n",
        "    dict1[key] = list1.count(key)\n",
        "\n",
        "print(dict1)\n",
        "\n",
        ""
      ],
      "metadata": {
        "id": "kYuDI6aJA0dp",
        "outputId": "9f19b6e5-601b-4208-bca6-87e017387796",
        "colab": {
          "base_uri": "https://localhost:8080/"
        }
      },
      "execution_count": 9,
      "outputs": [
        {
          "output_type": "stream",
          "name": "stdout",
          "text": [
            "['I', 'live', 'in', 'Bangalore', 'city', 'and', 'Mumbai', 'city']\n",
            "{'I': 1, 'live': 1, 'in': 1, 'Bangalore': 1, 'city': 2, 'and': 1, 'Mumbai': 1}\n"
          ]
        }
      ]
    },
    {
      "cell_type": "code",
      "source": [
        "d1 = {'key1': (4,3) , 'Key2': 4}\n",
        "\n",
        "print(d1)"
      ],
      "metadata": {
        "colab": {
          "base_uri": "https://localhost:8080/"
        },
        "id": "GU7DYcNfZpP8",
        "outputId": "2cbcff4c-3af1-4d59-ac77-39664ce71c35"
      },
      "execution_count": null,
      "outputs": [
        {
          "output_type": "stream",
          "name": "stdout",
          "text": [
            "{'key1': (4, 3), 'Key2': 4}\n"
          ]
        }
      ]
    },
    {
      "cell_type": "code",
      "source": [
        "d1 = {2: 100, 4: 200, 6: 300, 8: 400, 10: 500}\n",
        "\n",
        "print(d1)\n",
        "print(type(d1))\n",
        "\n",
        "print(d1[2])\n",
        "print(d1[10])"
      ],
      "metadata": {
        "colab": {
          "base_uri": "https://localhost:8080/"
        },
        "id": "lTSKEpliaxSn",
        "outputId": "8fd2aaa9-1110-4721-bdd9-b21c4f694dad"
      },
      "execution_count": null,
      "outputs": [
        {
          "output_type": "stream",
          "name": "stdout",
          "text": [
            "{2: 100, 4: 200, 6: 300, 8: 400, 10: 500}\n",
            "<class 'dict'>\n",
            "100\n",
            "500\n"
          ]
        }
      ]
    },
    {
      "cell_type": "code",
      "source": [
        "d2 = {'aa': 100, 'bb': 200, 'cc': 300, 'dd': 400}\n",
        "\n",
        "print(d2)\n",
        "\n",
        "print(d2['cc'])"
      ],
      "metadata": {
        "colab": {
          "base_uri": "https://localhost:8080/"
        },
        "id": "MKFCT8lcbpKP",
        "outputId": "c403eb57-5a2a-48f0-e98a-b8d0047a6f7e"
      },
      "execution_count": null,
      "outputs": [
        {
          "output_type": "stream",
          "name": "stdout",
          "text": [
            "{'aa': 100, 'bb': 200, 'cc': 300, 'dd': 400}\n",
            "300\n"
          ]
        }
      ]
    },
    {
      "cell_type": "code",
      "source": [
        "d3 = {3: [1,2,3], 6: (4,5,6), 9: 'NTT'}\n",
        "\n",
        "print(d3)\n",
        "\n",
        "print(d3[3])\n",
        "\n",
        "print(d3[6])\n",
        "\n",
        "print(d3[9])"
      ],
      "metadata": {
        "colab": {
          "base_uri": "https://localhost:8080/"
        },
        "id": "nYqzDC-scMVD",
        "outputId": "56ec7182-5f4d-475a-e74f-3b3892af0f6a"
      },
      "execution_count": null,
      "outputs": [
        {
          "output_type": "stream",
          "name": "stdout",
          "text": [
            "{3: [1, 2, 3], 6: (4, 5, 6), 9: 'NTT'}\n",
            "[1, 2, 3]\n",
            "(4, 5, 6)\n",
            "NTT\n"
          ]
        }
      ]
    },
    {
      "cell_type": "code",
      "source": [
        "d4 = {(1,2): 100, (3,4): 200, (5,6): 300}\n",
        "print(d4)\n",
        "print(d4[(1,2)])\n",
        "\n",
        "for i in d4.keys():\n",
        "  print(i)\n",
        "  print(d4[i])\n",
        "\n",
        "for v in d4.values():\n",
        "  print(v)\n",
        "\n",
        "for items in d4.items():\n",
        "  print(items)"
      ],
      "metadata": {
        "colab": {
          "base_uri": "https://localhost:8080/"
        },
        "id": "ajIPTmoXdQEi",
        "outputId": "11f1061b-9c4d-4665-a586-2f4036332238"
      },
      "execution_count": null,
      "outputs": [
        {
          "output_type": "stream",
          "name": "stdout",
          "text": [
            "{(1, 2): 100, (3, 4): 200, (5, 6): 300}\n",
            "100\n",
            "(1, 2)\n",
            "100\n",
            "(3, 4)\n",
            "200\n",
            "(5, 6)\n",
            "300\n",
            "100\n",
            "200\n",
            "300\n",
            "((1, 2), 100)\n",
            "((3, 4), 200)\n",
            "((5, 6), 300)\n"
          ]
        }
      ]
    },
    {
      "cell_type": "code",
      "source": [
        "l1 = [10,20,30]\n",
        "\n",
        "print(l1)\n",
        "\n",
        "del l1[: :]\n",
        "\n",
        "print(l1)"
      ],
      "metadata": {
        "id": "BuZJChsI2uib",
        "outputId": "eeffb195-c99d-4642-cd75-720c7a336464",
        "colab": {
          "base_uri": "https://localhost:8080/"
        }
      },
      "execution_count": null,
      "outputs": [
        {
          "output_type": "stream",
          "name": "stdout",
          "text": [
            "[10, 20, 30]\n",
            "[]\n"
          ]
        }
      ]
    },
    {
      "cell_type": "code",
      "source": [
        "l1 = ['aaa', 'bbbb', 'cccc']\n",
        "\n",
        "print(max(l1, key = len))"
      ],
      "metadata": {
        "id": "21qQUR1G5TZ9",
        "outputId": "08edf3b8-1b64-4ce5-f8eb-a027bbeb5743",
        "colab": {
          "base_uri": "https://localhost:8080/"
        }
      },
      "execution_count": null,
      "outputs": [
        {
          "output_type": "stream",
          "name": "stdout",
          "text": [
            "bbbb\n"
          ]
        }
      ]
    },
    {
      "cell_type": "code",
      "source": [
        "l1 = [10, 20]\n",
        "\n",
        "print(l1)\n",
        "\n",
        "appendNumber = int(input('How many number you want append to the list: '))\n",
        "\n",
        "for i in range(appendNumber):\n",
        "  l1.append(i*10)\n",
        "\n",
        "print(l1)"
      ],
      "metadata": {
        "id": "KuuAqSFG7qwE",
        "outputId": "a8e0043e-2fda-450a-fdb4-806a2dcc7f64",
        "colab": {
          "base_uri": "https://localhost:8080/"
        }
      },
      "execution_count": null,
      "outputs": [
        {
          "output_type": "stream",
          "name": "stdout",
          "text": [
            "[10, 20]\n",
            "How many number you want append to the list: 6\n",
            "[10, 20, 0, 10, 20, 30, 40, 50]\n"
          ]
        }
      ]
    },
    {
      "cell_type": "code",
      "source": [
        "l1 = [10, 20, 10, 30, 20, 45]\n",
        "l2 = []\n",
        "\n",
        "for i in l1:\n",
        "  if i not in l2:\n",
        "      l2.append(i)\n",
        "\n",
        "print(l2)\n",
        "\n"
      ],
      "metadata": {
        "id": "UMu8r04xCk7B",
        "outputId": "ce6988a1-ea43-4c5d-f562-64dfffd3fc49",
        "colab": {
          "base_uri": "https://localhost:8080/"
        }
      },
      "execution_count": null,
      "outputs": [
        {
          "output_type": "stream",
          "name": "stdout",
          "text": [
            "[10, 20, 30, 45]\n"
          ]
        }
      ]
    },
    {
      "cell_type": "code",
      "source": [
        "l1 = [10, 20, 10, 30, 20, 45]\n",
        "\n",
        "for i in l1:\n",
        "  if i in l1:\n",
        "    l1.remove(i)\n",
        "\n",
        "print(l1)"
      ],
      "metadata": {
        "id": "jzMMdvxmFZBl"
      },
      "execution_count": null,
      "outputs": []
    },
    {
      "cell_type": "code",
      "source": [
        "i = int(input(\"enter a number\"))\n",
        "j = 1\n",
        "\n",
        "while j<11:\n",
        "      print(i,\" * \", j, \" = \", i*j)\n",
        "      j = j+1"
      ],
      "metadata": {
        "id": "34ZbDQBAxLWX",
        "colab": {
          "base_uri": "https://localhost:8080/"
        },
        "outputId": "b87945f0-d6bb-4b41-a6ab-69a591cd89c6"
      },
      "execution_count": null,
      "outputs": [
        {
          "output_type": "stream",
          "name": "stdout",
          "text": [
            "enter a number5\n",
            "5  *  1  =  5\n",
            "5  *  2  =  10\n",
            "5  *  3  =  15\n",
            "5  *  4  =  20\n",
            "5  *  5  =  25\n",
            "5  *  6  =  30\n",
            "5  *  7  =  35\n",
            "5  *  8  =  40\n",
            "5  *  9  =  45\n",
            "5  *  10  =  50\n"
          ]
        }
      ]
    },
    {
      "cell_type": "code",
      "source": [
        "list1 = [1,2,3,4,5]\n",
        "\n",
        "print(list1.pop(1))\n",
        "\n",
        "print(list1)"
      ],
      "metadata": {
        "id": "3c-GiWZdAt7y",
        "outputId": "eafe91e1-4c76-4953-e088-9af93c605e78",
        "colab": {
          "base_uri": "https://localhost:8080/"
        }
      },
      "execution_count": null,
      "outputs": [
        {
          "output_type": "stream",
          "name": "stdout",
          "text": [
            "2\n",
            "[1, 3, 4, 5]\n"
          ]
        }
      ]
    },
    {
      "cell_type": "code",
      "source": [
        "str = 'NTTData'\n",
        "\n",
        "l = list(str)\n",
        "\n",
        "print(l)"
      ],
      "metadata": {
        "id": "M3ilnWiUCV6a",
        "outputId": "07f52246-3495-4bff-f777-6d05ea4000a9",
        "colab": {
          "base_uri": "https://localhost:8080/"
        }
      },
      "execution_count": null,
      "outputs": [
        {
          "output_type": "stream",
          "name": "stdout",
          "text": [
            "['N', 'T', 'T', 'D', 'a', 't', 'a']\n"
          ]
        }
      ]
    },
    {
      "cell_type": "code",
      "source": [
        "l1 = [2, 3, 3, 2, 4, 4, 4, 6, 7, 8]\n",
        "\n",
        "l2 = list()\n",
        "\n",
        "l3 = list()\n",
        "\n",
        "for i in l1:\n",
        "  if i not in l2:\n",
        "    l2.append(i)\n",
        "\n",
        "for j in l2:\n",
        "  counter = 0\n",
        "  for k in range(len(l1)):\n",
        "    if j == l1[k]:\n",
        "      counter += 1\n",
        "  l3.append(counter)\n",
        "\n",
        "print(l2)\n",
        "print(l3)\n"
      ],
      "metadata": {
        "id": "W1nC2mkxEYAs",
        "outputId": "31202d9c-de3a-4a6b-98d8-49ce83de33c4",
        "colab": {
          "base_uri": "https://localhost:8080/"
        }
      },
      "execution_count": null,
      "outputs": [
        {
          "output_type": "stream",
          "name": "stdout",
          "text": [
            "[2, 3, 4, 6, 7, 8]\n",
            "[2, 2, 3, 1, 1, 1]\n"
          ]
        }
      ]
    },
    {
      "cell_type": "code",
      "source": [
        "d1 = {1:100, 2:200, 3:300}\n",
        "\n",
        "d2 = d1.copy()\n",
        "d3 = d2\n",
        "\n",
        "d1.update({4:400})\n",
        "\n",
        "print(d1)\n",
        "print(d2)\n",
        "print(d3)"
      ],
      "metadata": {
        "colab": {
          "base_uri": "https://localhost:8080/"
        },
        "id": "FIdNErrIoAHe",
        "outputId": "226e2534-c05f-45ea-fba8-0d69d0a82b29"
      },
      "execution_count": null,
      "outputs": [
        {
          "output_type": "stream",
          "name": "stdout",
          "text": [
            "{1: 100, 2: 200, 3: 300, 4: 400}\n",
            "{1: 100, 2: 200, 3: 300}\n",
            "{1: 100, 2: 200, 3: 300}\n"
          ]
        }
      ]
    },
    {
      "cell_type": "code",
      "source": [
        "k = [1,2,3,4]\n",
        "v = [10,20,30]\n",
        "\n",
        "d1 = dict(zip(k,v))\n",
        "\n",
        "print(d1)"
      ],
      "metadata": {
        "id": "fvbMiwcYqxfK",
        "outputId": "0439d474-c223-44dd-8cac-e2f3d181e214",
        "colab": {
          "base_uri": "https://localhost:8080/"
        }
      },
      "execution_count": null,
      "outputs": [
        {
          "output_type": "stream",
          "name": "stdout",
          "text": [
            "{1: 10, 2: 20, 3: 30}\n"
          ]
        }
      ]
    }
  ]
}