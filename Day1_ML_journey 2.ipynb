{
  "nbformat": 4,
  "nbformat_minor": 0,
  "metadata": {
    "colab": {
      "provenance": [],
      "toc_visible": true
    },
    "kernelspec": {
      "name": "python3",
      "display_name": "Python 3"
    },
    "language_info": {
      "name": "python"
    }
  },
  "cells": [
    {
      "cell_type": "code",
      "execution_count": 6,
      "metadata": {
        "colab": {
          "base_uri": "https://localhost:8080/"
        },
        "id": "HpmbKqI7jltH",
        "outputId": "06a802ee-937e-4f4f-c24d-53ddf51c1e2a"
      },
      "outputs": [
        {
          "output_type": "stream",
          "name": "stdout",
          "text": [
            "enter a stringbus\n",
            "its not a palindrome\n"
          ]
        }
      ],
      "source": [
        "s1 = input(\"enter a string\")\n",
        "s2 = s1[::-1]\n",
        "\n",
        "if s1 == s2:\n",
        "   print (\"its a palindrome\")\n",
        "else:\n",
        "   print (\"its not a palindrome\")\n",
        "\n",
        ""
      ]
    },
    {
      "cell_type": "code",
      "source": [
        "ashdkjas"
      ],
      "metadata": {
        "id": "34ZbDQBAxLWX"
      },
      "execution_count": null,
      "outputs": []
    }
  ]
}