{
  "nbformat": 4,
  "nbformat_minor": 0,
  "metadata": {
    "colab": {
      "provenance": [],
      "toc_visible": true
    },
    "kernelspec": {
      "name": "python3",
      "display_name": "Python 3"
    },
    "language_info": {
      "name": "python"
    }
  },
  "cells": [
    {
      "cell_type": "code",
      "execution_count": null,
      "metadata": {
        "colab": {
          "base_uri": "https://localhost:8080/"
        },
        "id": "HpmbKqI7jltH",
        "outputId": "06a802ee-937e-4f4f-c24d-53ddf51c1e2a"
      },
      "outputs": [
        {
          "output_type": "stream",
          "name": "stdout",
          "text": [
            "enter a stringbus\n",
            "its not a palindrome\n"
          ]
        }
      ],
      "source": [
        "s1 = input(\"enter a string\")\n",
        "s2 = s1[::-1]\n",
        "\n",
        "if s1 == s2:\n",
        "   print (\"its a palindrome\")\n",
        "else:\n",
        "   print (\"its not a palindrome\")\n",
        "\n"
      ]
    },
    {
      "cell_type": "code",
      "source": [
        "l1 = [10,20,30]\n",
        "\n",
        "print(l1)\n",
        "\n",
        "del l1[: :]\n",
        "\n",
        "print(l1)"
      ],
      "metadata": {
        "id": "BuZJChsI2uib",
        "outputId": "eeffb195-c99d-4642-cd75-720c7a336464",
        "colab": {
          "base_uri": "https://localhost:8080/"
        }
      },
      "execution_count": 2,
      "outputs": [
        {
          "output_type": "stream",
          "name": "stdout",
          "text": [
            "[10, 20, 30]\n",
            "[]\n"
          ]
        }
      ]
    },
    {
      "cell_type": "code",
      "source": [
        "l1 = ['aaa', 'bbbb', 'cccc']\n",
        "\n",
        "print(max(l1, key = len))"
      ],
      "metadata": {
        "id": "21qQUR1G5TZ9",
        "outputId": "08edf3b8-1b64-4ce5-f8eb-a027bbeb5743",
        "colab": {
          "base_uri": "https://localhost:8080/"
        }
      },
      "execution_count": 3,
      "outputs": [
        {
          "output_type": "stream",
          "name": "stdout",
          "text": [
            "bbbb\n"
          ]
        }
      ]
    },
    {
      "cell_type": "code",
      "source": [
        "l1 = [10, 20]\n",
        "\n",
        "print(l1)\n",
        "\n",
        "appendNumber = int(input('How many number you want append to the list: '))\n",
        "\n",
        "for i in range(appendNumber):\n",
        "  l1.append(i*10)\n",
        "\n",
        "print(l1)"
      ],
      "metadata": {
        "id": "KuuAqSFG7qwE",
        "outputId": "a8e0043e-2fda-450a-fdb4-806a2dcc7f64",
        "colab": {
          "base_uri": "https://localhost:8080/"
        }
      },
      "execution_count": 5,
      "outputs": [
        {
          "output_type": "stream",
          "name": "stdout",
          "text": [
            "[10, 20]\n",
            "How many number you want append to the list: 6\n",
            "[10, 20, 0, 10, 20, 30, 40, 50]\n"
          ]
        }
      ]
    },
    {
      "cell_type": "code",
      "source": [
        "l1 = [10, 20, 10, 30, 20, 45]\n",
        "l2 = []\n",
        "\n",
        "for i in l1:\n",
        "  if i not in l2:\n",
        "      l2.append(i)\n",
        "\n",
        "print(l2)\n",
        "\n"
      ],
      "metadata": {
        "id": "UMu8r04xCk7B",
        "outputId": "ce6988a1-ea43-4c5d-f562-64dfffd3fc49",
        "colab": {
          "base_uri": "https://localhost:8080/"
        }
      },
      "execution_count": 7,
      "outputs": [
        {
          "output_type": "stream",
          "name": "stdout",
          "text": [
            "[10, 20, 30, 45]\n"
          ]
        }
      ]
    },
    {
      "cell_type": "code",
      "source": [
        "l1 = [10, 20, 10, 30, 20, 45]\n",
        "\n",
        "for i in l1:\n",
        "  if i in l1:\n",
        "    l1.remove(i)\n",
        "\n",
        "print(l1)"
      ],
      "metadata": {
        "id": "jzMMdvxmFZBl"
      },
      "execution_count": null,
      "outputs": []
    },
    {
      "cell_type": "code",
      "source": [
        "i = int(input(\"enter a number\"))\n",
        "j = 1\n",
        "\n",
        "while j<11:\n",
        "      print(i,\" * \", j, \" = \", i*j)\n",
        "      j = j+1"
      ],
      "metadata": {
        "id": "34ZbDQBAxLWX",
        "colab": {
          "base_uri": "https://localhost:8080/"
        },
        "outputId": "b87945f0-d6bb-4b41-a6ab-69a591cd89c6"
      },
      "execution_count": null,
      "outputs": [
        {
          "output_type": "stream",
          "name": "stdout",
          "text": [
            "enter a number5\n",
            "5  *  1  =  5\n",
            "5  *  2  =  10\n",
            "5  *  3  =  15\n",
            "5  *  4  =  20\n",
            "5  *  5  =  25\n",
            "5  *  6  =  30\n",
            "5  *  7  =  35\n",
            "5  *  8  =  40\n",
            "5  *  9  =  45\n",
            "5  *  10  =  50\n"
          ]
        }
      ]
    }
  ]
}