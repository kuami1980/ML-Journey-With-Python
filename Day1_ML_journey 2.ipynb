{
  "nbformat": 4,
  "nbformat_minor": 0,
  "metadata": {
    "colab": {
      "provenance": [],
      "toc_visible": true
    },
    "kernelspec": {
      "name": "python3",
      "display_name": "Python 3"
    },
    "language_info": {
      "name": "python"
    }
  },
  "cells": [
    {
      "cell_type": "code",
      "execution_count": 6,
      "metadata": {
        "colab": {
          "base_uri": "https://localhost:8080/"
        },
        "id": "HpmbKqI7jltH",
        "outputId": "06a802ee-937e-4f4f-c24d-53ddf51c1e2a"
      },
      "outputs": [
        {
          "output_type": "stream",
          "name": "stdout",
          "text": [
            "enter a stringbus\n",
            "its not a palindrome\n"
          ]
        }
      ],
      "source": [
        "s1 = input(\"enter a string\")\n",
        "s2 = s1[::-1]\n",
        "\n",
        "if s1 == s2:\n",
        "   print (\"its a palindrome\")\n",
        "else:\n",
        "   print (\"its not a palindrome\")\n",
        "\n",
        ""
      ]
    },
    {
      "cell_type": "code",
      "source": [
        "i = int(input(\"enter a number\"))\n",
        "j = 1\n",
        "\n",
        "while j<11:\n",
        "      print(i,\" * \", j, \" = \", i*j)\n",
        "      j = j+1"
      ],
      "metadata": {
        "id": "34ZbDQBAxLWX",
        "colab": {
          "base_uri": "https://localhost:8080/"
        },
        "outputId": "b87945f0-d6bb-4b41-a6ab-69a591cd89c6"
      },
      "execution_count": 10,
      "outputs": [
        {
          "output_type": "stream",
          "name": "stdout",
          "text": [
            "enter a number5\n",
            "5  *  1  =  5\n",
            "5  *  2  =  10\n",
            "5  *  3  =  15\n",
            "5  *  4  =  20\n",
            "5  *  5  =  25\n",
            "5  *  6  =  30\n",
            "5  *  7  =  35\n",
            "5  *  8  =  40\n",
            "5  *  9  =  45\n",
            "5  *  10  =  50\n"
          ]
        }
      ]
    }
  ]
}